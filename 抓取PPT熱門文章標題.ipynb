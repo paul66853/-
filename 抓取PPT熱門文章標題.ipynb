{
  "nbformat": 4,
  "nbformat_minor": 0,
  "metadata": {
    "colab": {
      "name": "抓取PPT熱門文章標題",
      "provenance": [],
      "authorship_tag": "ABX9TyOAF+R3dK3WQQ6psY8RIV5Z",
      "include_colab_link": true
    },
    "kernelspec": {
      "name": "python3",
      "display_name": "Python 3"
    },
    "language_info": {
      "name": "python"
    }
  },
  "cells": [
    {
      "cell_type": "markdown",
      "metadata": {
        "id": "view-in-github",
        "colab_type": "text"
      },
      "source": [
        "<a href=\"https://colab.research.google.com/github/paul66853/web-crawler/blob/main/%E6%8A%93%E5%8F%96PPT%E7%86%B1%E9%96%80%E6%96%87%E7%AB%A0%E6%A8%99%E9%A1%8C.ipynb\" target=\"_parent\"><img src=\"https://colab.research.google.com/assets/colab-badge.svg\" alt=\"Open In Colab\"/></a>"
      ]
    },
    {
      "cell_type": "code",
      "metadata": {
        "id": "dXxf7_NuBM97"
      },
      "source": [
        "import requests"
      ],
      "execution_count": 3,
      "outputs": []
    },
    {
      "cell_type": "code",
      "metadata": {
        "id": "DmL8I-FfB-6b"
      },
      "source": [
        "from bs4 import BeautifulSoup"
      ],
      "execution_count": 4,
      "outputs": []
    },
    {
      "cell_type": "code",
      "metadata": {
        "id": "PncjbSgfCBV-"
      },
      "source": [
        "r=requests.get(\"https://disp.cc/b/\")"
      ],
      "execution_count": 5,
      "outputs": []
    },
    {
      "cell_type": "code",
      "metadata": {
        "id": "ZQgmj8lcCEYE"
      },
      "source": [
        "soup=BeautifulSoup(r.text,\"html.parser\")"
      ],
      "execution_count": 6,
      "outputs": []
    },
    {
      "cell_type": "code",
      "metadata": {
        "id": "3sjH_tUKCFZu"
      },
      "source": [
        "sel = soup.select(\"div > div > span.ht_title > a\")"
      ],
      "execution_count": 7,
      "outputs": []
    },
    {
      "cell_type": "code",
      "metadata": {
        "colab": {
          "base_uri": "https://localhost:8080/"
        },
        "id": "IIZY3xhWCGdA",
        "outputId": "55f45b3d-d2f1-445c-bdc5-9af0f4e6ddb7"
      },
      "source": [
        "for s in sel:\n",
        "    print(s[\"href\"],s.text)"
      ],
      "execution_count": 8,
      "outputs": [
        {
          "output_type": "stream",
          "text": [
            "163-dOey Re: [爆卦] 柯P:應該請教賴清德民進黨有沒有養網軍 - Gossiping 板\n",
            "163-dOdG Re: [新聞] 「民進黨沒有網軍」？時代力量：公道自 - Gossiping 板\n",
            "163-dOeJ [問卦] Kate Upton 算正妹嗎？ - Gossiping 板\n",
            "163-dO3l [新聞] 江宏傑福原愛「瓜分高雄3900萬豪宅」！ 收入差37倍…財產細節曝 - Gossiping 板\n",
            "163-dNDA Re: [問卦] 有人挑戰過印度路邊攤嗎? - Gossiping 板\n",
            "163-dOec [新聞] 中國利用偷渡客大量取得英特爾CPU晶片 - Gossiping 板\n",
            "163-dO6M [新聞] 福原愛離婚後遭挖豪放情史 自曝：奪網球王子初夜 - Gossiping 板\n",
            "163-dO9Y [爆卦] 關於確診者中有愛滋病患一事 - Gossiping 板\n",
            "163-dOa2 [新聞] 700多萬疫苗打不到300萬 醫界不解中央扣疫苗的邏輯 - Gossiping 板\n",
            "163-dO83 [新聞] 鄉民PTT推測「疫苗被硬擋」送辦 法官判非誤導不罰創全台首例 - Gossiping 板\n",
            "253-dNBc [眼殘]  我好累 - Stupid 板\n",
            "163-dOd1 [問卦] 木曜vs賤葆vs台灣尋奇妹子三本柱 誰第一? - Gossiping 板\n",
            "163-dObx [問卦] 2019年起 社維法移送案件大爆炸 花黑噴 - Gossiping 板\n",
            "163-dOej Re: [新聞] Garmin員工確診 新北衛生局：桃園父親先 - Gossiping 板\n",
            "163-dOe4 [問卦] 士官長也太正了吧 - Gossiping 板\n",
            "163-dNx4 [問卦] YouTube讓你最憤怒的廣告是什麼？ - Gossiping 板\n",
            "163-dOa8 [新聞] 輝瑞BNT是通乳丸？妹子打完疫苗 驚喊貧乳升級2罩杯成巨胸 - Gossiping 板\n",
            "163-dO09 Re: [爆卦] 總統府資政掌握側翼論壇殺雙北 - Gossiping 板\n",
            "163-dO4c [新聞] 加州Epsilon變種病毒能讓疫苗失效 - Gossiping 板\n",
            "163-dNYB Re: [爆卦] 台北市政府環南市場還原真相時間軸 - Gossiping 板\n",
            "163-dOeW Re: [新聞] 鄭文燦：Garmin染疫個案當下沒獲新北市通 - Gossiping 板\n",
            "163-dOek [新聞] 譚德塞感嘆：Delta病毒贏了 誰沒疫苗誰死 - Gossiping 板\n",
            "163-dO39 [新聞] 立陶宛總統記者會到一半「警報突然響」 身後戰機緊急升空 - Gossiping 板\n",
            "163-dO7o [新聞] 人正真好 長腿妹摔進糞坑 4男幫她 - Gossiping 板\n",
            "163-dO9g [新聞] 誇張「母.女.婿」3人濃厚接觸！女兒喜讓老公玩媽媽 網驚岳母好正 - Gossiping 板\n",
            "163-dO2Z [問卦] 為什麼女生兩點要打碼 男生不用？ - Gossiping 板\n",
            "163-dNZf [問卦] 淦 笑屎 >///< - Gossiping 板\n",
            "163-dO46 [新聞] 快訊／武裝分子闖入台灣駐海地大使館！ 外交部聲明：11人被捕 - Gossiping 板\n",
            "163-dNYX Re: [問卦] 一個小島有海地與多明尼加是什麼概念？ - Gossiping 板\n",
            "163-dO3X [問卦] 大法師的中邪小女生是怎麼演的？[有圖] - Gossiping 板\n",
            "163-dO1v Re: [新聞] 英國立法禁止「活煮龍蝦」 研究證據顯示 - Gossiping 板\n",
            "163-dO8r Re: [新聞] 又是萬華！  指揮中心剛宣布微解封  六 - Gossiping 板\n",
            "163-dO2G [問卦] 我的鄰居是他媽的神經病 - Gossiping 板\n",
            "163-dO5p [問卦] 吳亦凡被爆選妃玩未成年少女，微博炎上 - Gossiping 板\n",
            "163-dO1N Re: [問卦] 同事龜頭只能露出一半算哪種包莖？ - Gossiping 板\n",
            "163-dO41 [新聞] 713微解封懶人包！5縣市「逆時中禁內用」 台北市今宣布 - Gossiping 板\n",
            "163-dO2M [爆卦] 西瓜市長高效率 台南打疫苗請排6小時 - Gossiping 板\n",
            "163-dO8E [問卦] 為什麼鯖魚這麼完美？ - Gossiping 板\n",
            "163-dO8A [爆卦] 柯P:應該請教賴清德民進黨有沒有養網軍 - Gossiping 板\n",
            "163-dO7P [新聞] 怕球飛太遠！大谷翔平不戶外打擊練習 打擊教練說原因 - Gossiping 板\n",
            "163-dO2j [爆卦] 第一次見識到這麼有組織的攻擊 - Gossiping 板\n",
            "163-dO3a [新聞] 健身房解封挨批魯莽 醫：哪門子專家會議 - Gossiping 板\n"
          ],
          "name": "stdout"
        }
      ]
    }
  ]
}